{
  "cells": [
    {
      "cell_type": "markdown",
      "source": [
        "**Importing historical data using CCXT**"
      ],
      "metadata": {
        "id": "mNwG4gXiNSfk"
      }
    },
    {
      "cell_type": "code",
      "source": [
        "!pip install ccxt"
      ],
      "metadata": {
        "colab": {
          "base_uri": "https://localhost:8080/"
        },
        "id": "5W32fvOVPH2q",
        "outputId": "d77d8517-bd84-45c6-d8b7-d2a1a9454ffd"
      },
      "execution_count": 2,
      "outputs": [
        {
          "output_type": "stream",
          "name": "stdout",
          "text": [
            "Looking in indexes: https://pypi.org/simple, https://us-python.pkg.dev/colab-wheels/public/simple/\n",
            "Collecting ccxt\n",
            "  Downloading ccxt-3.0.89-py2.py3-none-any.whl (3.8 MB)\n",
            "\u001b[2K     \u001b[90m━━━━━━━━━━━━━━━━━━━━━━━━━━━━━━━━━━━━━━━━\u001b[0m \u001b[32m3.8/3.8 MB\u001b[0m \u001b[31m33.3 MB/s\u001b[0m eta \u001b[36m0:00:00\u001b[0m\n",
            "\u001b[?25hCollecting aiohttp>=3.8\n",
            "  Downloading aiohttp-3.8.4-cp310-cp310-manylinux_2_17_x86_64.manylinux2014_x86_64.whl (1.0 MB)\n",
            "\u001b[2K     \u001b[90m━━━━━━━━━━━━━━━━━━━━━━━━━━━━━━━━━━━━━━━━\u001b[0m \u001b[32m1.0/1.0 MB\u001b[0m \u001b[31m45.4 MB/s\u001b[0m eta \u001b[36m0:00:00\u001b[0m\n",
            "\u001b[?25hRequirement already satisfied: setuptools>=60.9.0 in /usr/local/lib/python3.10/dist-packages (from ccxt) (67.7.2)\n",
            "Collecting aiodns>=1.1.1\n",
            "  Downloading aiodns-3.0.0-py3-none-any.whl (5.0 kB)\n",
            "Requirement already satisfied: requests>=2.18.4 in /usr/local/lib/python3.10/dist-packages (from ccxt) (2.27.1)\n",
            "Requirement already satisfied: certifi>=2018.1.18 in /usr/local/lib/python3.10/dist-packages (from ccxt) (2022.12.7)\n",
            "Requirement already satisfied: cryptography>=2.6.1 in /usr/local/lib/python3.10/dist-packages (from ccxt) (40.0.2)\n",
            "Collecting yarl>=1.7.2\n",
            "  Downloading yarl-1.9.2-cp310-cp310-manylinux_2_17_x86_64.manylinux2014_x86_64.whl (268 kB)\n",
            "\u001b[2K     \u001b[90m━━━━━━━━━━━━━━━━━━━━━━━━━━━━━━━━━━━━━━\u001b[0m \u001b[32m268.8/268.8 kB\u001b[0m \u001b[31m24.6 MB/s\u001b[0m eta \u001b[36m0:00:00\u001b[0m\n",
            "\u001b[?25hCollecting pycares>=4.0.0\n",
            "  Downloading pycares-4.3.0-cp310-cp310-manylinux_2_17_x86_64.manylinux2014_x86_64.whl (288 kB)\n",
            "\u001b[2K     \u001b[90m━━━━━━━━━━━━━━━━━━━━━━━━━━━━━━━━━━━━━━\u001b[0m \u001b[32m288.7/288.7 kB\u001b[0m \u001b[31m26.5 MB/s\u001b[0m eta \u001b[36m0:00:00\u001b[0m\n",
            "\u001b[?25hCollecting async-timeout<5.0,>=4.0.0a3\n",
            "  Downloading async_timeout-4.0.2-py3-none-any.whl (5.8 kB)\n",
            "Requirement already satisfied: attrs>=17.3.0 in /usr/local/lib/python3.10/dist-packages (from aiohttp>=3.8->ccxt) (23.1.0)\n",
            "Collecting aiosignal>=1.1.2\n",
            "  Downloading aiosignal-1.3.1-py3-none-any.whl (7.6 kB)\n",
            "Requirement already satisfied: charset-normalizer<4.0,>=2.0 in /usr/local/lib/python3.10/dist-packages (from aiohttp>=3.8->ccxt) (2.0.12)\n",
            "Collecting multidict<7.0,>=4.5\n",
            "  Downloading multidict-6.0.4-cp310-cp310-manylinux_2_17_x86_64.manylinux2014_x86_64.whl (114 kB)\n",
            "\u001b[2K     \u001b[90m━━━━━━━━━━━━━━━━━━━━━━━━━━━━━━━━━━━━━━\u001b[0m \u001b[32m114.5/114.5 kB\u001b[0m \u001b[31m14.2 MB/s\u001b[0m eta \u001b[36m0:00:00\u001b[0m\n",
            "\u001b[?25hCollecting frozenlist>=1.1.1\n",
            "  Downloading frozenlist-1.3.3-cp310-cp310-manylinux_2_5_x86_64.manylinux1_x86_64.manylinux_2_17_x86_64.manylinux2014_x86_64.whl (149 kB)\n",
            "\u001b[2K     \u001b[90m━━━━━━━━━━━━━━━━━━━━━━━━━━━━━━━━━━━━━━\u001b[0m \u001b[32m149.6/149.6 kB\u001b[0m \u001b[31m16.3 MB/s\u001b[0m eta \u001b[36m0:00:00\u001b[0m\n",
            "\u001b[?25hRequirement already satisfied: cffi>=1.12 in /usr/local/lib/python3.10/dist-packages (from cryptography>=2.6.1->ccxt) (1.15.1)\n",
            "Requirement already satisfied: idna<4,>=2.5 in /usr/local/lib/python3.10/dist-packages (from requests>=2.18.4->ccxt) (3.4)\n",
            "Requirement already satisfied: urllib3<1.27,>=1.21.1 in /usr/local/lib/python3.10/dist-packages (from requests>=2.18.4->ccxt) (1.26.15)\n",
            "Requirement already satisfied: pycparser in /usr/local/lib/python3.10/dist-packages (from cffi>=1.12->cryptography>=2.6.1->ccxt) (2.21)\n",
            "Installing collected packages: multidict, frozenlist, async-timeout, yarl, pycares, aiosignal, aiohttp, aiodns, ccxt\n",
            "Successfully installed aiodns-3.0.0 aiohttp-3.8.4 aiosignal-1.3.1 async-timeout-4.0.2 ccxt-3.0.89 frozenlist-1.3.3 multidict-6.0.4 pycares-4.3.0 yarl-1.9.2\n"
          ]
        }
      ]
    },
    {
      "cell_type": "code",
      "source": [
        "import time\n",
        "import ccxt\n",
        "import pandas as pd\n",
        "import numpy as np\n",
        "import matplotlib.pyplot as plt"
      ],
      "metadata": {
        "id": "XmkjtFsENOKi"
      },
      "execution_count": 3,
      "outputs": []
    },
    {
      "cell_type": "code",
      "source": [
        "def get_history(symbol, interval, start = None, limit = 1000):\n",
        "    \n",
        "    if start:\n",
        "        start = exchange.parse8601(start)\n",
        "    \n",
        "    data = exchange.fetchOHLCV(symbol = symbol, timeframe = interval, since = start, limit = limit)\n",
        "    last_bar_actual = data[-1][0] # timestamp of last loaded bar\n",
        "    \n",
        "    # timestamp of current bar \n",
        "    last_bar_target = exchange.fetchOHLCV(symbol = symbol, timeframe = interval, limit = 2)[-1][0]\n",
        "    \n",
        "    # as long as we don´t have all bars (most recent): let´s pull the next 1000 bars\n",
        "    while last_bar_target != last_bar_actual: \n",
        "        \n",
        "        time.sleep(0.1)\n",
        "        data_add = exchange.fetchOHLCV(symbol = symbol, timeframe = interval,\n",
        "                                      since = last_bar_actual, limit = limit)\n",
        "        data += data_add[1:]\n",
        "        last_bar_actual = data[-1][0]\n",
        "        last_bar_target = exchange.fetchOHLCV(symbol = symbol, timeframe = interval, limit = 2)[-1][0]      \n",
        "    \n",
        "    raw = pd.DataFrame(data)\n",
        "    raw.columns = [\"Date\", \"Open\", \"High\", \"Low\", \"Close\", \"Volume\"]\n",
        "    raw.Date = pd.to_datetime(raw.Date, unit = \"ms\")\n",
        "    raw.set_index(\"Date\", inplace = True)\n",
        "\n",
        "    return raw"
      ],
      "metadata": {
        "id": "2zo5J-GEPUA3"
      },
      "execution_count": 9,
      "outputs": []
    },
    {
      "cell_type": "code",
      "source": [
        "exchange = ccxt.binance()\n",
        "symbol = \"BTCUSDT\"\n",
        "interval = \"15m\"\n",
        "start = \"2023-01-01 00:00:00\""
      ],
      "metadata": {
        "id": "PXNToFvfPb7F"
      },
      "execution_count": 10,
      "outputs": []
    },
    {
      "cell_type": "code",
      "source": [
        "raw = get_history(symbol, interval, start)"
      ],
      "metadata": {
        "id": "3Y2AGX8yPb0g"
      },
      "execution_count": 11,
      "outputs": []
    },
    {
      "cell_type": "code",
      "source": [
        "raw"
      ],
      "metadata": {
        "colab": {
          "base_uri": "https://localhost:8080/",
          "height": 455
        },
        "id": "MVM1NSmPPmlw",
        "outputId": "dace8516-b050-4e44-9fbf-a5c95d4b33e0"
      },
      "execution_count": 12,
      "outputs": [
        {
          "output_type": "execute_result",
          "data": {
            "text/plain": [
              "                         Open      High       Low     Close      Volume\n",
              "Date                                                                   \n",
              "2023-01-01 00:00:00  16541.77  16544.76  16520.00  16520.69  1172.53835\n",
              "2023-01-01 00:15:00  16521.26  16545.70  16517.72  16544.19  1102.62888\n",
              "2023-01-01 00:30:00  16544.19  16544.61  16508.39  16515.43  1365.65633\n",
              "2023-01-01 00:45:00  16515.91  16536.84  16515.43  16529.67   724.01214\n",
              "2023-01-01 01:00:00  16529.59  16541.80  16525.78  16538.21   977.24680\n",
              "...                       ...       ...       ...       ...         ...\n",
              "2023-05-02 20:00:00  28686.13  28727.75  28626.85  28661.87   548.53753\n",
              "2023-05-02 20:15:00  28661.87  28728.97  28622.44  28705.09   562.76329\n",
              "2023-05-02 20:30:00  28705.09  28788.99  28697.41  28763.19   394.89958\n",
              "2023-05-02 20:45:00  28763.19  28763.19  28658.68  28675.98   327.28502\n",
              "2023-05-02 21:00:00  28675.98  28675.98  28659.11  28661.65    50.71934\n",
              "\n",
              "[11696 rows x 5 columns]"
            ],
            "text/html": [
              "\n",
              "  <div id=\"df-4511107c-ef9e-4322-83d3-3c488ccdfed7\">\n",
              "    <div class=\"colab-df-container\">\n",
              "      <div>\n",
              "<style scoped>\n",
              "    .dataframe tbody tr th:only-of-type {\n",
              "        vertical-align: middle;\n",
              "    }\n",
              "\n",
              "    .dataframe tbody tr th {\n",
              "        vertical-align: top;\n",
              "    }\n",
              "\n",
              "    .dataframe thead th {\n",
              "        text-align: right;\n",
              "    }\n",
              "</style>\n",
              "<table border=\"1\" class=\"dataframe\">\n",
              "  <thead>\n",
              "    <tr style=\"text-align: right;\">\n",
              "      <th></th>\n",
              "      <th>Open</th>\n",
              "      <th>High</th>\n",
              "      <th>Low</th>\n",
              "      <th>Close</th>\n",
              "      <th>Volume</th>\n",
              "    </tr>\n",
              "    <tr>\n",
              "      <th>Date</th>\n",
              "      <th></th>\n",
              "      <th></th>\n",
              "      <th></th>\n",
              "      <th></th>\n",
              "      <th></th>\n",
              "    </tr>\n",
              "  </thead>\n",
              "  <tbody>\n",
              "    <tr>\n",
              "      <th>2023-01-01 00:00:00</th>\n",
              "      <td>16541.77</td>\n",
              "      <td>16544.76</td>\n",
              "      <td>16520.00</td>\n",
              "      <td>16520.69</td>\n",
              "      <td>1172.53835</td>\n",
              "    </tr>\n",
              "    <tr>\n",
              "      <th>2023-01-01 00:15:00</th>\n",
              "      <td>16521.26</td>\n",
              "      <td>16545.70</td>\n",
              "      <td>16517.72</td>\n",
              "      <td>16544.19</td>\n",
              "      <td>1102.62888</td>\n",
              "    </tr>\n",
              "    <tr>\n",
              "      <th>2023-01-01 00:30:00</th>\n",
              "      <td>16544.19</td>\n",
              "      <td>16544.61</td>\n",
              "      <td>16508.39</td>\n",
              "      <td>16515.43</td>\n",
              "      <td>1365.65633</td>\n",
              "    </tr>\n",
              "    <tr>\n",
              "      <th>2023-01-01 00:45:00</th>\n",
              "      <td>16515.91</td>\n",
              "      <td>16536.84</td>\n",
              "      <td>16515.43</td>\n",
              "      <td>16529.67</td>\n",
              "      <td>724.01214</td>\n",
              "    </tr>\n",
              "    <tr>\n",
              "      <th>2023-01-01 01:00:00</th>\n",
              "      <td>16529.59</td>\n",
              "      <td>16541.80</td>\n",
              "      <td>16525.78</td>\n",
              "      <td>16538.21</td>\n",
              "      <td>977.24680</td>\n",
              "    </tr>\n",
              "    <tr>\n",
              "      <th>...</th>\n",
              "      <td>...</td>\n",
              "      <td>...</td>\n",
              "      <td>...</td>\n",
              "      <td>...</td>\n",
              "      <td>...</td>\n",
              "    </tr>\n",
              "    <tr>\n",
              "      <th>2023-05-02 20:00:00</th>\n",
              "      <td>28686.13</td>\n",
              "      <td>28727.75</td>\n",
              "      <td>28626.85</td>\n",
              "      <td>28661.87</td>\n",
              "      <td>548.53753</td>\n",
              "    </tr>\n",
              "    <tr>\n",
              "      <th>2023-05-02 20:15:00</th>\n",
              "      <td>28661.87</td>\n",
              "      <td>28728.97</td>\n",
              "      <td>28622.44</td>\n",
              "      <td>28705.09</td>\n",
              "      <td>562.76329</td>\n",
              "    </tr>\n",
              "    <tr>\n",
              "      <th>2023-05-02 20:30:00</th>\n",
              "      <td>28705.09</td>\n",
              "      <td>28788.99</td>\n",
              "      <td>28697.41</td>\n",
              "      <td>28763.19</td>\n",
              "      <td>394.89958</td>\n",
              "    </tr>\n",
              "    <tr>\n",
              "      <th>2023-05-02 20:45:00</th>\n",
              "      <td>28763.19</td>\n",
              "      <td>28763.19</td>\n",
              "      <td>28658.68</td>\n",
              "      <td>28675.98</td>\n",
              "      <td>327.28502</td>\n",
              "    </tr>\n",
              "    <tr>\n",
              "      <th>2023-05-02 21:00:00</th>\n",
              "      <td>28675.98</td>\n",
              "      <td>28675.98</td>\n",
              "      <td>28659.11</td>\n",
              "      <td>28661.65</td>\n",
              "      <td>50.71934</td>\n",
              "    </tr>\n",
              "  </tbody>\n",
              "</table>\n",
              "<p>11696 rows × 5 columns</p>\n",
              "</div>\n",
              "      <button class=\"colab-df-convert\" onclick=\"convertToInteractive('df-4511107c-ef9e-4322-83d3-3c488ccdfed7')\"\n",
              "              title=\"Convert this dataframe to an interactive table.\"\n",
              "              style=\"display:none;\">\n",
              "        \n",
              "  <svg xmlns=\"http://www.w3.org/2000/svg\" height=\"24px\"viewBox=\"0 0 24 24\"\n",
              "       width=\"24px\">\n",
              "    <path d=\"M0 0h24v24H0V0z\" fill=\"none\"/>\n",
              "    <path d=\"M18.56 5.44l.94 2.06.94-2.06 2.06-.94-2.06-.94-.94-2.06-.94 2.06-2.06.94zm-11 1L8.5 8.5l.94-2.06 2.06-.94-2.06-.94L8.5 2.5l-.94 2.06-2.06.94zm10 10l.94 2.06.94-2.06 2.06-.94-2.06-.94-.94-2.06-.94 2.06-2.06.94z\"/><path d=\"M17.41 7.96l-1.37-1.37c-.4-.4-.92-.59-1.43-.59-.52 0-1.04.2-1.43.59L10.3 9.45l-7.72 7.72c-.78.78-.78 2.05 0 2.83L4 21.41c.39.39.9.59 1.41.59.51 0 1.02-.2 1.41-.59l7.78-7.78 2.81-2.81c.8-.78.8-2.07 0-2.86zM5.41 20L4 18.59l7.72-7.72 1.47 1.35L5.41 20z\"/>\n",
              "  </svg>\n",
              "      </button>\n",
              "      \n",
              "  <style>\n",
              "    .colab-df-container {\n",
              "      display:flex;\n",
              "      flex-wrap:wrap;\n",
              "      gap: 12px;\n",
              "    }\n",
              "\n",
              "    .colab-df-convert {\n",
              "      background-color: #E8F0FE;\n",
              "      border: none;\n",
              "      border-radius: 50%;\n",
              "      cursor: pointer;\n",
              "      display: none;\n",
              "      fill: #1967D2;\n",
              "      height: 32px;\n",
              "      padding: 0 0 0 0;\n",
              "      width: 32px;\n",
              "    }\n",
              "\n",
              "    .colab-df-convert:hover {\n",
              "      background-color: #E2EBFA;\n",
              "      box-shadow: 0px 1px 2px rgba(60, 64, 67, 0.3), 0px 1px 3px 1px rgba(60, 64, 67, 0.15);\n",
              "      fill: #174EA6;\n",
              "    }\n",
              "\n",
              "    [theme=dark] .colab-df-convert {\n",
              "      background-color: #3B4455;\n",
              "      fill: #D2E3FC;\n",
              "    }\n",
              "\n",
              "    [theme=dark] .colab-df-convert:hover {\n",
              "      background-color: #434B5C;\n",
              "      box-shadow: 0px 1px 3px 1px rgba(0, 0, 0, 0.15);\n",
              "      filter: drop-shadow(0px 1px 2px rgba(0, 0, 0, 0.3));\n",
              "      fill: #FFFFFF;\n",
              "    }\n",
              "  </style>\n",
              "\n",
              "      <script>\n",
              "        const buttonEl =\n",
              "          document.querySelector('#df-4511107c-ef9e-4322-83d3-3c488ccdfed7 button.colab-df-convert');\n",
              "        buttonEl.style.display =\n",
              "          google.colab.kernel.accessAllowed ? 'block' : 'none';\n",
              "\n",
              "        async function convertToInteractive(key) {\n",
              "          const element = document.querySelector('#df-4511107c-ef9e-4322-83d3-3c488ccdfed7');\n",
              "          const dataTable =\n",
              "            await google.colab.kernel.invokeFunction('convertToInteractive',\n",
              "                                                     [key], {});\n",
              "          if (!dataTable) return;\n",
              "\n",
              "          const docLinkHtml = 'Like what you see? Visit the ' +\n",
              "            '<a target=\"_blank\" href=https://colab.research.google.com/notebooks/data_table.ipynb>data table notebook</a>'\n",
              "            + ' to learn more about interactive tables.';\n",
              "          element.innerHTML = '';\n",
              "          dataTable['output_type'] = 'display_data';\n",
              "          await google.colab.output.renderOutput(dataTable, element);\n",
              "          const docLink = document.createElement('div');\n",
              "          docLink.innerHTML = docLinkHtml;\n",
              "          element.appendChild(docLink);\n",
              "        }\n",
              "      </script>\n",
              "    </div>\n",
              "  </div>\n",
              "  "
            ]
          },
          "metadata": {},
          "execution_count": 12
        }
      ]
    },
    {
      "cell_type": "code",
      "source": [
        "raw.rename(columns={\"Open\":\"open\", \"High\":\"high\" ,\"Low\" : \"low\", \"Close\":\"close\",\"Volume\":\"volume\"}, inplace = True)\n",
        "dataframe = raw.copy()\n",
        "dataframe"
      ],
      "metadata": {
        "colab": {
          "base_uri": "https://localhost:8080/",
          "height": 455
        },
        "id": "3CkIPuxDPmcY",
        "outputId": "12cdf0f9-efae-4934-adb7-9f958cc4fe27"
      },
      "execution_count": 13,
      "outputs": [
        {
          "output_type": "execute_result",
          "data": {
            "text/plain": [
              "                         open      high       low     close      volume\n",
              "Date                                                                   \n",
              "2023-01-01 00:00:00  16541.77  16544.76  16520.00  16520.69  1172.53835\n",
              "2023-01-01 00:15:00  16521.26  16545.70  16517.72  16544.19  1102.62888\n",
              "2023-01-01 00:30:00  16544.19  16544.61  16508.39  16515.43  1365.65633\n",
              "2023-01-01 00:45:00  16515.91  16536.84  16515.43  16529.67   724.01214\n",
              "2023-01-01 01:00:00  16529.59  16541.80  16525.78  16538.21   977.24680\n",
              "...                       ...       ...       ...       ...         ...\n",
              "2023-05-02 20:00:00  28686.13  28727.75  28626.85  28661.87   548.53753\n",
              "2023-05-02 20:15:00  28661.87  28728.97  28622.44  28705.09   562.76329\n",
              "2023-05-02 20:30:00  28705.09  28788.99  28697.41  28763.19   394.89958\n",
              "2023-05-02 20:45:00  28763.19  28763.19  28658.68  28675.98   327.28502\n",
              "2023-05-02 21:00:00  28675.98  28675.98  28659.11  28661.65    50.71934\n",
              "\n",
              "[11696 rows x 5 columns]"
            ],
            "text/html": [
              "\n",
              "  <div id=\"df-fec6868b-474e-4dc2-9dcf-dcd8d7db0eae\">\n",
              "    <div class=\"colab-df-container\">\n",
              "      <div>\n",
              "<style scoped>\n",
              "    .dataframe tbody tr th:only-of-type {\n",
              "        vertical-align: middle;\n",
              "    }\n",
              "\n",
              "    .dataframe tbody tr th {\n",
              "        vertical-align: top;\n",
              "    }\n",
              "\n",
              "    .dataframe thead th {\n",
              "        text-align: right;\n",
              "    }\n",
              "</style>\n",
              "<table border=\"1\" class=\"dataframe\">\n",
              "  <thead>\n",
              "    <tr style=\"text-align: right;\">\n",
              "      <th></th>\n",
              "      <th>open</th>\n",
              "      <th>high</th>\n",
              "      <th>low</th>\n",
              "      <th>close</th>\n",
              "      <th>volume</th>\n",
              "    </tr>\n",
              "    <tr>\n",
              "      <th>Date</th>\n",
              "      <th></th>\n",
              "      <th></th>\n",
              "      <th></th>\n",
              "      <th></th>\n",
              "      <th></th>\n",
              "    </tr>\n",
              "  </thead>\n",
              "  <tbody>\n",
              "    <tr>\n",
              "      <th>2023-01-01 00:00:00</th>\n",
              "      <td>16541.77</td>\n",
              "      <td>16544.76</td>\n",
              "      <td>16520.00</td>\n",
              "      <td>16520.69</td>\n",
              "      <td>1172.53835</td>\n",
              "    </tr>\n",
              "    <tr>\n",
              "      <th>2023-01-01 00:15:00</th>\n",
              "      <td>16521.26</td>\n",
              "      <td>16545.70</td>\n",
              "      <td>16517.72</td>\n",
              "      <td>16544.19</td>\n",
              "      <td>1102.62888</td>\n",
              "    </tr>\n",
              "    <tr>\n",
              "      <th>2023-01-01 00:30:00</th>\n",
              "      <td>16544.19</td>\n",
              "      <td>16544.61</td>\n",
              "      <td>16508.39</td>\n",
              "      <td>16515.43</td>\n",
              "      <td>1365.65633</td>\n",
              "    </tr>\n",
              "    <tr>\n",
              "      <th>2023-01-01 00:45:00</th>\n",
              "      <td>16515.91</td>\n",
              "      <td>16536.84</td>\n",
              "      <td>16515.43</td>\n",
              "      <td>16529.67</td>\n",
              "      <td>724.01214</td>\n",
              "    </tr>\n",
              "    <tr>\n",
              "      <th>2023-01-01 01:00:00</th>\n",
              "      <td>16529.59</td>\n",
              "      <td>16541.80</td>\n",
              "      <td>16525.78</td>\n",
              "      <td>16538.21</td>\n",
              "      <td>977.24680</td>\n",
              "    </tr>\n",
              "    <tr>\n",
              "      <th>...</th>\n",
              "      <td>...</td>\n",
              "      <td>...</td>\n",
              "      <td>...</td>\n",
              "      <td>...</td>\n",
              "      <td>...</td>\n",
              "    </tr>\n",
              "    <tr>\n",
              "      <th>2023-05-02 20:00:00</th>\n",
              "      <td>28686.13</td>\n",
              "      <td>28727.75</td>\n",
              "      <td>28626.85</td>\n",
              "      <td>28661.87</td>\n",
              "      <td>548.53753</td>\n",
              "    </tr>\n",
              "    <tr>\n",
              "      <th>2023-05-02 20:15:00</th>\n",
              "      <td>28661.87</td>\n",
              "      <td>28728.97</td>\n",
              "      <td>28622.44</td>\n",
              "      <td>28705.09</td>\n",
              "      <td>562.76329</td>\n",
              "    </tr>\n",
              "    <tr>\n",
              "      <th>2023-05-02 20:30:00</th>\n",
              "      <td>28705.09</td>\n",
              "      <td>28788.99</td>\n",
              "      <td>28697.41</td>\n",
              "      <td>28763.19</td>\n",
              "      <td>394.89958</td>\n",
              "    </tr>\n",
              "    <tr>\n",
              "      <th>2023-05-02 20:45:00</th>\n",
              "      <td>28763.19</td>\n",
              "      <td>28763.19</td>\n",
              "      <td>28658.68</td>\n",
              "      <td>28675.98</td>\n",
              "      <td>327.28502</td>\n",
              "    </tr>\n",
              "    <tr>\n",
              "      <th>2023-05-02 21:00:00</th>\n",
              "      <td>28675.98</td>\n",
              "      <td>28675.98</td>\n",
              "      <td>28659.11</td>\n",
              "      <td>28661.65</td>\n",
              "      <td>50.71934</td>\n",
              "    </tr>\n",
              "  </tbody>\n",
              "</table>\n",
              "<p>11696 rows × 5 columns</p>\n",
              "</div>\n",
              "      <button class=\"colab-df-convert\" onclick=\"convertToInteractive('df-fec6868b-474e-4dc2-9dcf-dcd8d7db0eae')\"\n",
              "              title=\"Convert this dataframe to an interactive table.\"\n",
              "              style=\"display:none;\">\n",
              "        \n",
              "  <svg xmlns=\"http://www.w3.org/2000/svg\" height=\"24px\"viewBox=\"0 0 24 24\"\n",
              "       width=\"24px\">\n",
              "    <path d=\"M0 0h24v24H0V0z\" fill=\"none\"/>\n",
              "    <path d=\"M18.56 5.44l.94 2.06.94-2.06 2.06-.94-2.06-.94-.94-2.06-.94 2.06-2.06.94zm-11 1L8.5 8.5l.94-2.06 2.06-.94-2.06-.94L8.5 2.5l-.94 2.06-2.06.94zm10 10l.94 2.06.94-2.06 2.06-.94-2.06-.94-.94-2.06-.94 2.06-2.06.94z\"/><path d=\"M17.41 7.96l-1.37-1.37c-.4-.4-.92-.59-1.43-.59-.52 0-1.04.2-1.43.59L10.3 9.45l-7.72 7.72c-.78.78-.78 2.05 0 2.83L4 21.41c.39.39.9.59 1.41.59.51 0 1.02-.2 1.41-.59l7.78-7.78 2.81-2.81c.8-.78.8-2.07 0-2.86zM5.41 20L4 18.59l7.72-7.72 1.47 1.35L5.41 20z\"/>\n",
              "  </svg>\n",
              "      </button>\n",
              "      \n",
              "  <style>\n",
              "    .colab-df-container {\n",
              "      display:flex;\n",
              "      flex-wrap:wrap;\n",
              "      gap: 12px;\n",
              "    }\n",
              "\n",
              "    .colab-df-convert {\n",
              "      background-color: #E8F0FE;\n",
              "      border: none;\n",
              "      border-radius: 50%;\n",
              "      cursor: pointer;\n",
              "      display: none;\n",
              "      fill: #1967D2;\n",
              "      height: 32px;\n",
              "      padding: 0 0 0 0;\n",
              "      width: 32px;\n",
              "    }\n",
              "\n",
              "    .colab-df-convert:hover {\n",
              "      background-color: #E2EBFA;\n",
              "      box-shadow: 0px 1px 2px rgba(60, 64, 67, 0.3), 0px 1px 3px 1px rgba(60, 64, 67, 0.15);\n",
              "      fill: #174EA6;\n",
              "    }\n",
              "\n",
              "    [theme=dark] .colab-df-convert {\n",
              "      background-color: #3B4455;\n",
              "      fill: #D2E3FC;\n",
              "    }\n",
              "\n",
              "    [theme=dark] .colab-df-convert:hover {\n",
              "      background-color: #434B5C;\n",
              "      box-shadow: 0px 1px 3px 1px rgba(0, 0, 0, 0.15);\n",
              "      filter: drop-shadow(0px 1px 2px rgba(0, 0, 0, 0.3));\n",
              "      fill: #FFFFFF;\n",
              "    }\n",
              "  </style>\n",
              "\n",
              "      <script>\n",
              "        const buttonEl =\n",
              "          document.querySelector('#df-fec6868b-474e-4dc2-9dcf-dcd8d7db0eae button.colab-df-convert');\n",
              "        buttonEl.style.display =\n",
              "          google.colab.kernel.accessAllowed ? 'block' : 'none';\n",
              "\n",
              "        async function convertToInteractive(key) {\n",
              "          const element = document.querySelector('#df-fec6868b-474e-4dc2-9dcf-dcd8d7db0eae');\n",
              "          const dataTable =\n",
              "            await google.colab.kernel.invokeFunction('convertToInteractive',\n",
              "                                                     [key], {});\n",
              "          if (!dataTable) return;\n",
              "\n",
              "          const docLinkHtml = 'Like what you see? Visit the ' +\n",
              "            '<a target=\"_blank\" href=https://colab.research.google.com/notebooks/data_table.ipynb>data table notebook</a>'\n",
              "            + ' to learn more about interactive tables.';\n",
              "          element.innerHTML = '';\n",
              "          dataTable['output_type'] = 'display_data';\n",
              "          await google.colab.output.renderOutput(dataTable, element);\n",
              "          const docLink = document.createElement('div');\n",
              "          docLink.innerHTML = docLinkHtml;\n",
              "          element.appendChild(docLink);\n",
              "        }\n",
              "      </script>\n",
              "    </div>\n",
              "  </div>\n",
              "  "
            ]
          },
          "metadata": {},
          "execution_count": 13
        }
      ]
    },
    {
      "cell_type": "code",
      "source": [],
      "metadata": {
        "id": "LLvLjw9vPbop"
      },
      "execution_count": null,
      "outputs": []
    },
    {
      "cell_type": "markdown",
      "metadata": {
        "id": "bs5-FgwbMtGT"
      },
      "source": [
        "# Pandas Data Type Mismatch"
      ]
    },
    {
      "cell_type": "markdown",
      "metadata": {
        "id": "yOngI_XQMtGY"
      },
      "source": [
        "This notebook explains how to identify data in columns with the wrong data type with `pandas`."
      ]
    },
    {
      "cell_type": "markdown",
      "metadata": {
        "tags": [],
        "id": "Pk7I0eNXMtGY"
      },
      "source": [
        "### Packages"
      ]
    },
    {
      "cell_type": "code",
      "source": [],
      "metadata": {
        "id": "rqEQikQyNL0C"
      },
      "execution_count": null,
      "outputs": []
    },
    {
      "cell_type": "markdown",
      "metadata": {
        "id": "djz1h7oMMtGZ"
      },
      "source": [
        "This tutorial uses:\n",
        "* [pandas](https://pandas.pydata.org/docs/)\n",
        "* [datetime](https://docs.python.org/3/library/datetime.html)"
      ]
    },
    {
      "cell_type": "code",
      "execution_count": null,
      "metadata": {
        "id": "RRFmYzpnMtGZ"
      },
      "outputs": [],
      "source": [
        "import pandas as pd\n",
        "import datetime\n",
        "import numpy as np"
      ]
    },
    {
      "cell_type": "markdown",
      "metadata": {
        "id": "URKE8oqUMtGb"
      },
      "source": [
        "## Creating the data"
      ]
    },
    {
      "cell_type": "markdown",
      "metadata": {
        "id": "ZnVIFfI4MtGc"
      },
      "source": [
        "We will create a dataframe that contains multiple occurances of duplication for this example."
      ]
    },
    {
      "cell_type": "code",
      "execution_count": null,
      "metadata": {
        "id": "lqd1KzIxMtGc"
      },
      "outputs": [],
      "source": [
        "df = pd.DataFrame({'A': ['text']*20,\n",
        "                   'B': [1, 2.2]*10,\n",
        "                   'C': [True, False]*10,\n",
        "                   'D': pd.to_datetime('2020-01-01')\n",
        "                  })"
      ]
    },
    {
      "cell_type": "markdown",
      "metadata": {
        "id": "abkIs1NIMtGd"
      },
      "source": [
        "Next, add some mistyped data to the dataframe."
      ]
    },
    {
      "cell_type": "code",
      "execution_count": null,
      "metadata": {
        "id": "GIuNdYljMtGe",
        "outputId": "cca79e1e-f6e9-4640-c4c2-a0e5e1a19b3b"
      },
      "outputs": [
        {
          "data": {
            "text/html": [
              "<div>\n",
              "<style scoped>\n",
              "    .dataframe tbody tr th:only-of-type {\n",
              "        vertical-align: middle;\n",
              "    }\n",
              "\n",
              "    .dataframe tbody tr th {\n",
              "        vertical-align: top;\n",
              "    }\n",
              "\n",
              "    .dataframe thead th {\n",
              "        text-align: right;\n",
              "    }\n",
              "</style>\n",
              "<table border=\"1\" class=\"dataframe\">\n",
              "  <thead>\n",
              "    <tr style=\"text-align: right;\">\n",
              "      <th></th>\n",
              "      <th>A</th>\n",
              "      <th>B</th>\n",
              "      <th>C</th>\n",
              "      <th>D</th>\n",
              "    </tr>\n",
              "  </thead>\n",
              "  <tbody>\n",
              "    <tr>\n",
              "      <th>0</th>\n",
              "      <td>1</td>\n",
              "      <td>1.0</td>\n",
              "      <td>True</td>\n",
              "      <td>2020-01-01 00:00:00</td>\n",
              "    </tr>\n",
              "    <tr>\n",
              "      <th>1</th>\n",
              "      <td>-2</td>\n",
              "      <td>2.2</td>\n",
              "      <td>False</td>\n",
              "      <td>2020-01-01 00:00:00</td>\n",
              "    </tr>\n",
              "    <tr>\n",
              "      <th>2</th>\n",
              "      <td>text</td>\n",
              "      <td>1.0</td>\n",
              "      <td>True</td>\n",
              "      <td>12</td>\n",
              "    </tr>\n",
              "    <tr>\n",
              "      <th>3</th>\n",
              "      <td>text</td>\n",
              "      <td>2.2</td>\n",
              "      <td>False</td>\n",
              "      <td>2020-01-01 00:00:00</td>\n",
              "    </tr>\n",
              "    <tr>\n",
              "      <th>4</th>\n",
              "      <td>text</td>\n",
              "      <td>1.0</td>\n",
              "      <td>1</td>\n",
              "      <td>2020-01-01 00:00:00</td>\n",
              "    </tr>\n",
              "    <tr>\n",
              "      <th>5</th>\n",
              "      <td>text</td>\n",
              "      <td>2.2</td>\n",
              "      <td>False</td>\n",
              "      <td>2020-01-01 00:00:00</td>\n",
              "    </tr>\n",
              "    <tr>\n",
              "      <th>6</th>\n",
              "      <td>text</td>\n",
              "      <td>1.0</td>\n",
              "      <td>True</td>\n",
              "      <td>2020-01-01 00:00:00</td>\n",
              "    </tr>\n",
              "    <tr>\n",
              "      <th>7</th>\n",
              "      <td>text</td>\n",
              "      <td>A+B</td>\n",
              "      <td>False</td>\n",
              "      <td>2020-01-01 00:00:00</td>\n",
              "    </tr>\n",
              "    <tr>\n",
              "      <th>8</th>\n",
              "      <td>text</td>\n",
              "      <td>1.0</td>\n",
              "      <td>True</td>\n",
              "      <td>2020-01-01 00:00:00</td>\n",
              "    </tr>\n",
              "    <tr>\n",
              "      <th>9</th>\n",
              "      <td>text</td>\n",
              "      <td>2.2</td>\n",
              "      <td>-12.6</td>\n",
              "      <td>2020-01-01 00:00:00</td>\n",
              "    </tr>\n",
              "    <tr>\n",
              "      <th>10</th>\n",
              "      <td>2021-01-01 00:00:00</td>\n",
              "      <td>1.0</td>\n",
              "      <td>True</td>\n",
              "      <td>2020-01-01 00:00:00</td>\n",
              "    </tr>\n",
              "    <tr>\n",
              "      <th>11</th>\n",
              "      <td>text</td>\n",
              "      <td>2.2</td>\n",
              "      <td>False</td>\n",
              "      <td>2020-01-01 00:00:00</td>\n",
              "    </tr>\n",
              "    <tr>\n",
              "      <th>12</th>\n",
              "      <td>text</td>\n",
              "      <td>1.0</td>\n",
              "      <td>text</td>\n",
              "      <td>2020-01-01</td>\n",
              "    </tr>\n",
              "    <tr>\n",
              "      <th>13</th>\n",
              "      <td>text</td>\n",
              "      <td>2.2</td>\n",
              "      <td>False</td>\n",
              "      <td>2020-01-01 00:00:00</td>\n",
              "    </tr>\n",
              "    <tr>\n",
              "      <th>14</th>\n",
              "      <td>text</td>\n",
              "      <td>1.0</td>\n",
              "      <td>True</td>\n",
              "      <td>2020-01-01 00:00:00</td>\n",
              "    </tr>\n",
              "    <tr>\n",
              "      <th>15</th>\n",
              "      <td>text</td>\n",
              "      <td>2.2</td>\n",
              "      <td>False</td>\n",
              "      <td>2020-01-01 00:00:00</td>\n",
              "    </tr>\n",
              "    <tr>\n",
              "      <th>16</th>\n",
              "      <td>text</td>\n",
              "      <td>1.0</td>\n",
              "      <td>True</td>\n",
              "      <td>2020-01-01 00:00:00</td>\n",
              "    </tr>\n",
              "    <tr>\n",
              "      <th>17</th>\n",
              "      <td>text</td>\n",
              "      <td>2.2</td>\n",
              "      <td>False</td>\n",
              "      <td>2020-01-01 00:00:00</td>\n",
              "    </tr>\n",
              "    <tr>\n",
              "      <th>18</th>\n",
              "      <td>text</td>\n",
              "      <td>1.0</td>\n",
              "      <td>True</td>\n",
              "      <td>2020-01-01 00:00:00</td>\n",
              "    </tr>\n",
              "    <tr>\n",
              "      <th>19</th>\n",
              "      <td>text</td>\n",
              "      <td>2.2</td>\n",
              "      <td>False</td>\n",
              "      <td>2020-01-01 00:00:00</td>\n",
              "    </tr>\n",
              "  </tbody>\n",
              "</table>\n",
              "</div>"
            ],
            "text/plain": [
              "                      A    B      C                    D\n",
              "0                     1  1.0   True  2020-01-01 00:00:00\n",
              "1                    -2  2.2  False  2020-01-01 00:00:00\n",
              "2                  text  1.0   True                   12\n",
              "3                  text  2.2  False  2020-01-01 00:00:00\n",
              "4                  text  1.0      1  2020-01-01 00:00:00\n",
              "5                  text  2.2  False  2020-01-01 00:00:00\n",
              "6                  text  1.0   True  2020-01-01 00:00:00\n",
              "7                  text  A+B  False  2020-01-01 00:00:00\n",
              "8                  text  1.0   True  2020-01-01 00:00:00\n",
              "9                  text  2.2  -12.6  2020-01-01 00:00:00\n",
              "10  2021-01-01 00:00:00  1.0   True  2020-01-01 00:00:00\n",
              "11                 text  2.2  False  2020-01-01 00:00:00\n",
              "12                 text  1.0   text           2020-01-01\n",
              "13                 text  2.2  False  2020-01-01 00:00:00\n",
              "14                 text  1.0   True  2020-01-01 00:00:00\n",
              "15                 text  2.2  False  2020-01-01 00:00:00\n",
              "16                 text  1.0   True  2020-01-01 00:00:00\n",
              "17                 text  2.2  False  2020-01-01 00:00:00\n",
              "18                 text  1.0   True  2020-01-01 00:00:00\n",
              "19                 text  2.2  False  2020-01-01 00:00:00"
            ]
          },
          "execution_count": 3,
          "metadata": {},
          "output_type": "execute_result"
        }
      ],
      "source": [
        "df.iloc[0,0] = 1\n",
        "df.iloc[1,0] = -2\n",
        "df.iloc[10,0] = pd.to_datetime('2021-01-01')\n",
        "df.iloc[5,1] = '2.2'\n",
        "df.iloc[7,1] = 'A+B'\n",
        "df.iloc[4,2] = 1\n",
        "df.iloc[5,2] = 'False'\n",
        "df.iloc[9,2] = -12.6\n",
        "df.iloc[12,2] = 'text'\n",
        "df.iloc[2,3] = 12\n",
        "df.iloc[12,3] = '2020-01-01'\n",
        "df"
      ]
    },
    {
      "cell_type": "markdown",
      "metadata": {
        "id": "g05hGh4LMtGf"
      },
      "source": [
        "## Identify mistyped data"
      ]
    },
    {
      "cell_type": "markdown",
      "metadata": {
        "id": "rxGnLW6iMtGf"
      },
      "source": [
        "The function `applymap` and `isinstance` will return a Boolean dataframe with **True** when the data type matches and **False** when the data type does not match."
      ]
    },
    {
      "cell_type": "markdown",
      "metadata": {
        "id": "Upk23oB5MtGf"
      },
      "source": [
        "### Check numeric"
      ]
    },
    {
      "cell_type": "code",
      "execution_count": null,
      "metadata": {
        "id": "Ir_P9udyMtGg",
        "outputId": "9a48bd02-c755-4c90-f110-9985e6872b03"
      },
      "outputs": [
        {
          "data": {
            "text/html": [
              "<div>\n",
              "<style scoped>\n",
              "    .dataframe tbody tr th:only-of-type {\n",
              "        vertical-align: middle;\n",
              "    }\n",
              "\n",
              "    .dataframe tbody tr th {\n",
              "        vertical-align: top;\n",
              "    }\n",
              "\n",
              "    .dataframe thead th {\n",
              "        text-align: right;\n",
              "    }\n",
              "</style>\n",
              "<table border=\"1\" class=\"dataframe\">\n",
              "  <thead>\n",
              "    <tr style=\"text-align: right;\">\n",
              "      <th></th>\n",
              "      <th>A</th>\n",
              "      <th>B</th>\n",
              "      <th>C</th>\n",
              "      <th>D</th>\n",
              "    </tr>\n",
              "  </thead>\n",
              "  <tbody>\n",
              "    <tr>\n",
              "      <th>0</th>\n",
              "      <td>True</td>\n",
              "      <td>True</td>\n",
              "      <td>True</td>\n",
              "      <td>False</td>\n",
              "    </tr>\n",
              "    <tr>\n",
              "      <th>1</th>\n",
              "      <td>True</td>\n",
              "      <td>True</td>\n",
              "      <td>True</td>\n",
              "      <td>False</td>\n",
              "    </tr>\n",
              "    <tr>\n",
              "      <th>2</th>\n",
              "      <td>False</td>\n",
              "      <td>True</td>\n",
              "      <td>True</td>\n",
              "      <td>True</td>\n",
              "    </tr>\n",
              "    <tr>\n",
              "      <th>3</th>\n",
              "      <td>False</td>\n",
              "      <td>True</td>\n",
              "      <td>True</td>\n",
              "      <td>False</td>\n",
              "    </tr>\n",
              "    <tr>\n",
              "      <th>4</th>\n",
              "      <td>False</td>\n",
              "      <td>True</td>\n",
              "      <td>True</td>\n",
              "      <td>False</td>\n",
              "    </tr>\n",
              "    <tr>\n",
              "      <th>5</th>\n",
              "      <td>False</td>\n",
              "      <td>False</td>\n",
              "      <td>False</td>\n",
              "      <td>False</td>\n",
              "    </tr>\n",
              "    <tr>\n",
              "      <th>6</th>\n",
              "      <td>False</td>\n",
              "      <td>True</td>\n",
              "      <td>True</td>\n",
              "      <td>False</td>\n",
              "    </tr>\n",
              "    <tr>\n",
              "      <th>7</th>\n",
              "      <td>False</td>\n",
              "      <td>False</td>\n",
              "      <td>True</td>\n",
              "      <td>False</td>\n",
              "    </tr>\n",
              "    <tr>\n",
              "      <th>8</th>\n",
              "      <td>False</td>\n",
              "      <td>True</td>\n",
              "      <td>True</td>\n",
              "      <td>False</td>\n",
              "    </tr>\n",
              "    <tr>\n",
              "      <th>9</th>\n",
              "      <td>False</td>\n",
              "      <td>True</td>\n",
              "      <td>True</td>\n",
              "      <td>False</td>\n",
              "    </tr>\n",
              "    <tr>\n",
              "      <th>10</th>\n",
              "      <td>False</td>\n",
              "      <td>True</td>\n",
              "      <td>True</td>\n",
              "      <td>False</td>\n",
              "    </tr>\n",
              "    <tr>\n",
              "      <th>11</th>\n",
              "      <td>False</td>\n",
              "      <td>True</td>\n",
              "      <td>True</td>\n",
              "      <td>False</td>\n",
              "    </tr>\n",
              "    <tr>\n",
              "      <th>12</th>\n",
              "      <td>False</td>\n",
              "      <td>True</td>\n",
              "      <td>False</td>\n",
              "      <td>False</td>\n",
              "    </tr>\n",
              "    <tr>\n",
              "      <th>13</th>\n",
              "      <td>False</td>\n",
              "      <td>True</td>\n",
              "      <td>True</td>\n",
              "      <td>False</td>\n",
              "    </tr>\n",
              "    <tr>\n",
              "      <th>14</th>\n",
              "      <td>False</td>\n",
              "      <td>True</td>\n",
              "      <td>True</td>\n",
              "      <td>False</td>\n",
              "    </tr>\n",
              "    <tr>\n",
              "      <th>15</th>\n",
              "      <td>False</td>\n",
              "      <td>True</td>\n",
              "      <td>True</td>\n",
              "      <td>False</td>\n",
              "    </tr>\n",
              "    <tr>\n",
              "      <th>16</th>\n",
              "      <td>False</td>\n",
              "      <td>True</td>\n",
              "      <td>True</td>\n",
              "      <td>False</td>\n",
              "    </tr>\n",
              "    <tr>\n",
              "      <th>17</th>\n",
              "      <td>False</td>\n",
              "      <td>True</td>\n",
              "      <td>True</td>\n",
              "      <td>False</td>\n",
              "    </tr>\n",
              "    <tr>\n",
              "      <th>18</th>\n",
              "      <td>False</td>\n",
              "      <td>True</td>\n",
              "      <td>True</td>\n",
              "      <td>False</td>\n",
              "    </tr>\n",
              "    <tr>\n",
              "      <th>19</th>\n",
              "      <td>False</td>\n",
              "      <td>True</td>\n",
              "      <td>True</td>\n",
              "      <td>False</td>\n",
              "    </tr>\n",
              "  </tbody>\n",
              "</table>\n",
              "</div>"
            ],
            "text/plain": [
              "        A      B      C      D\n",
              "0    True   True   True  False\n",
              "1    True   True   True  False\n",
              "2   False   True   True   True\n",
              "3   False   True   True  False\n",
              "4   False   True   True  False\n",
              "5   False  False  False  False\n",
              "6   False   True   True  False\n",
              "7   False  False   True  False\n",
              "8   False   True   True  False\n",
              "9   False   True   True  False\n",
              "10  False   True   True  False\n",
              "11  False   True   True  False\n",
              "12  False   True  False  False\n",
              "13  False   True   True  False\n",
              "14  False   True   True  False\n",
              "15  False   True   True  False\n",
              "16  False   True   True  False\n",
              "17  False   True   True  False\n",
              "18  False   True   True  False\n",
              "19  False   True   True  False"
            ]
          },
          "execution_count": 4,
          "metadata": {},
          "output_type": "execute_result"
        }
      ],
      "source": [
        "numeric = df.applymap(lambda x: isinstance(x, (int, float)))\n",
        "numeric"
      ]
    },
    {
      "cell_type": "markdown",
      "metadata": {
        "id": "Dv6L91XjMtGg"
      },
      "source": [
        "Since only column **B** is supposed to be numeric, this can be made more specific by running `applymap` only on column **B**."
      ]
    },
    {
      "cell_type": "code",
      "execution_count": null,
      "metadata": {
        "tags": [],
        "id": "3mjddQoaMtGg",
        "outputId": "d51c57fb-ed88-492f-e794-650b810b1165"
      },
      "outputs": [
        {
          "data": {
            "text/plain": [
              "0      True\n",
              "1      True\n",
              "2      True\n",
              "3      True\n",
              "4      True\n",
              "5     False\n",
              "6      True\n",
              "7     False\n",
              "8      True\n",
              "9      True\n",
              "10     True\n",
              "11     True\n",
              "12     True\n",
              "13     True\n",
              "14     True\n",
              "15     True\n",
              "16     True\n",
              "17     True\n",
              "18     True\n",
              "19     True\n",
              "Name: B, dtype: bool"
            ]
          },
          "execution_count": 5,
          "metadata": {},
          "output_type": "execute_result"
        }
      ],
      "source": [
        "numeric = df.applymap(lambda x: isinstance(x, (int, float)))['B']\n",
        "numeric"
      ]
    },
    {
      "cell_type": "markdown",
      "metadata": {
        "id": "Yf1gLpUdMtGh"
      },
      "source": [
        "Using this Boolean series to return the non-numeric data"
      ]
    },
    {
      "cell_type": "code",
      "execution_count": null,
      "metadata": {
        "id": "cmpevdGSMtGh",
        "outputId": "a927aefc-d348-4587-8179-e7f2a09f9ba9"
      },
      "outputs": [
        {
          "data": {
            "text/html": [
              "<div>\n",
              "<style scoped>\n",
              "    .dataframe tbody tr th:only-of-type {\n",
              "        vertical-align: middle;\n",
              "    }\n",
              "\n",
              "    .dataframe tbody tr th {\n",
              "        vertical-align: top;\n",
              "    }\n",
              "\n",
              "    .dataframe thead th {\n",
              "        text-align: right;\n",
              "    }\n",
              "</style>\n",
              "<table border=\"1\" class=\"dataframe\">\n",
              "  <thead>\n",
              "    <tr style=\"text-align: right;\">\n",
              "      <th></th>\n",
              "      <th>A</th>\n",
              "      <th>B</th>\n",
              "      <th>C</th>\n",
              "      <th>D</th>\n",
              "    </tr>\n",
              "  </thead>\n",
              "  <tbody>\n",
              "    <tr>\n",
              "      <th>5</th>\n",
              "      <td>text</td>\n",
              "      <td>2.2</td>\n",
              "      <td>False</td>\n",
              "      <td>2020-01-01 00:00:00</td>\n",
              "    </tr>\n",
              "    <tr>\n",
              "      <th>7</th>\n",
              "      <td>text</td>\n",
              "      <td>A+B</td>\n",
              "      <td>False</td>\n",
              "      <td>2020-01-01 00:00:00</td>\n",
              "    </tr>\n",
              "  </tbody>\n",
              "</table>\n",
              "</div>"
            ],
            "text/plain": [
              "      A    B      C                    D\n",
              "5  text  2.2  False  2020-01-01 00:00:00\n",
              "7  text  A+B  False  2020-01-01 00:00:00"
            ]
          },
          "execution_count": 6,
          "metadata": {},
          "output_type": "execute_result"
        }
      ],
      "source": [
        "df[~numeric]"
      ]
    },
    {
      "cell_type": "markdown",
      "metadata": {
        "id": "7CzHO9RDMtGi"
      },
      "source": [
        "### Check datetime"
      ]
    },
    {
      "cell_type": "code",
      "execution_count": null,
      "metadata": {
        "tags": [],
        "id": "1XZLyX_tMtGi",
        "outputId": "aec9c7f9-8c7f-4445-b713-9e513dcc233f"
      },
      "outputs": [
        {
          "data": {
            "text/plain": [
              "0      True\n",
              "1      True\n",
              "2     False\n",
              "3      True\n",
              "4      True\n",
              "5      True\n",
              "6      True\n",
              "7      True\n",
              "8      True\n",
              "9      True\n",
              "10     True\n",
              "11     True\n",
              "12    False\n",
              "13     True\n",
              "14     True\n",
              "15     True\n",
              "16     True\n",
              "17     True\n",
              "18     True\n",
              "19     True\n",
              "Name: D, dtype: bool"
            ]
          },
          "execution_count": 7,
          "metadata": {},
          "output_type": "execute_result"
        }
      ],
      "source": [
        "dt = df.applymap(lambda x: isinstance(x, (datetime.datetime)))['D']\n",
        "dt"
      ]
    },
    {
      "cell_type": "markdown",
      "metadata": {
        "id": "lAzs5yL-MtGi"
      },
      "source": [
        "Using this Boolean series to return the non-numeric data"
      ]
    },
    {
      "cell_type": "code",
      "execution_count": null,
      "metadata": {
        "tags": [],
        "id": "i9VBNTwEMtGi",
        "outputId": "cc85d0d4-36ff-4e59-ffdb-3d0a61b8cf37"
      },
      "outputs": [
        {
          "data": {
            "text/html": [
              "<div>\n",
              "<style scoped>\n",
              "    .dataframe tbody tr th:only-of-type {\n",
              "        vertical-align: middle;\n",
              "    }\n",
              "\n",
              "    .dataframe tbody tr th {\n",
              "        vertical-align: top;\n",
              "    }\n",
              "\n",
              "    .dataframe thead th {\n",
              "        text-align: right;\n",
              "    }\n",
              "</style>\n",
              "<table border=\"1\" class=\"dataframe\">\n",
              "  <thead>\n",
              "    <tr style=\"text-align: right;\">\n",
              "      <th></th>\n",
              "      <th>A</th>\n",
              "      <th>B</th>\n",
              "      <th>C</th>\n",
              "      <th>D</th>\n",
              "    </tr>\n",
              "  </thead>\n",
              "  <tbody>\n",
              "    <tr>\n",
              "      <th>2</th>\n",
              "      <td>text</td>\n",
              "      <td>1.0</td>\n",
              "      <td>True</td>\n",
              "      <td>12</td>\n",
              "    </tr>\n",
              "    <tr>\n",
              "      <th>12</th>\n",
              "      <td>text</td>\n",
              "      <td>1.0</td>\n",
              "      <td>text</td>\n",
              "      <td>2020-01-01</td>\n",
              "    </tr>\n",
              "  </tbody>\n",
              "</table>\n",
              "</div>"
            ],
            "text/plain": [
              "       A    B     C           D\n",
              "2   text  1.0  True          12\n",
              "12  text  1.0  text  2020-01-01"
            ]
          },
          "execution_count": 8,
          "metadata": {},
          "output_type": "execute_result"
        }
      ],
      "source": [
        "df[~dt]"
      ]
    },
    {
      "cell_type": "markdown",
      "metadata": {
        "id": "L0h9j9cxMtGj"
      },
      "source": [
        "### Check string"
      ]
    },
    {
      "cell_type": "code",
      "execution_count": null,
      "metadata": {
        "tags": [],
        "id": "a25WRHZrMtGj",
        "outputId": "ecda6f3c-4807-46f6-f316-400b9805e260"
      },
      "outputs": [
        {
          "data": {
            "text/plain": [
              "0     False\n",
              "1     False\n",
              "2      True\n",
              "3      True\n",
              "4      True\n",
              "5      True\n",
              "6      True\n",
              "7      True\n",
              "8      True\n",
              "9      True\n",
              "10    False\n",
              "11     True\n",
              "12     True\n",
              "13     True\n",
              "14     True\n",
              "15     True\n",
              "16     True\n",
              "17     True\n",
              "18     True\n",
              "19     True\n",
              "Name: A, dtype: bool"
            ]
          },
          "execution_count": 9,
          "metadata": {},
          "output_type": "execute_result"
        }
      ],
      "source": [
        "strings = df.applymap(lambda x: isinstance(x, (str)))['A']\n",
        "strings"
      ]
    },
    {
      "cell_type": "markdown",
      "metadata": {
        "id": "cV3rGJJIMtGj"
      },
      "source": [
        "Using this Boolean series to return the non-numeric data"
      ]
    },
    {
      "cell_type": "code",
      "execution_count": null,
      "metadata": {
        "tags": [],
        "id": "LmjrFiz2MtGj",
        "outputId": "f586981a-d0c2-48b8-ec3a-a5576395db18"
      },
      "outputs": [
        {
          "data": {
            "text/html": [
              "<div>\n",
              "<style scoped>\n",
              "    .dataframe tbody tr th:only-of-type {\n",
              "        vertical-align: middle;\n",
              "    }\n",
              "\n",
              "    .dataframe tbody tr th {\n",
              "        vertical-align: top;\n",
              "    }\n",
              "\n",
              "    .dataframe thead th {\n",
              "        text-align: right;\n",
              "    }\n",
              "</style>\n",
              "<table border=\"1\" class=\"dataframe\">\n",
              "  <thead>\n",
              "    <tr style=\"text-align: right;\">\n",
              "      <th></th>\n",
              "      <th>A</th>\n",
              "      <th>B</th>\n",
              "      <th>C</th>\n",
              "      <th>D</th>\n",
              "    </tr>\n",
              "  </thead>\n",
              "  <tbody>\n",
              "    <tr>\n",
              "      <th>0</th>\n",
              "      <td>1</td>\n",
              "      <td>1.0</td>\n",
              "      <td>True</td>\n",
              "      <td>2020-01-01 00:00:00</td>\n",
              "    </tr>\n",
              "    <tr>\n",
              "      <th>1</th>\n",
              "      <td>-2</td>\n",
              "      <td>2.2</td>\n",
              "      <td>False</td>\n",
              "      <td>2020-01-01 00:00:00</td>\n",
              "    </tr>\n",
              "    <tr>\n",
              "      <th>10</th>\n",
              "      <td>2021-01-01 00:00:00</td>\n",
              "      <td>1.0</td>\n",
              "      <td>True</td>\n",
              "      <td>2020-01-01 00:00:00</td>\n",
              "    </tr>\n",
              "  </tbody>\n",
              "</table>\n",
              "</div>"
            ],
            "text/plain": [
              "                      A    B      C                    D\n",
              "0                     1  1.0   True  2020-01-01 00:00:00\n",
              "1                    -2  2.2  False  2020-01-01 00:00:00\n",
              "10  2021-01-01 00:00:00  1.0   True  2020-01-01 00:00:00"
            ]
          },
          "execution_count": 10,
          "metadata": {},
          "output_type": "execute_result"
        }
      ],
      "source": [
        "df[~strings]"
      ]
    },
    {
      "cell_type": "markdown",
      "metadata": {
        "id": "CQwVmrh1MtGk"
      },
      "source": [
        "### Check Boolean"
      ]
    },
    {
      "cell_type": "code",
      "execution_count": null,
      "metadata": {
        "tags": [],
        "id": "bzyzpMQvMtGk",
        "outputId": "9a345ca1-851f-440c-e528-0f01157e75f7"
      },
      "outputs": [
        {
          "data": {
            "text/plain": [
              "0      True\n",
              "1      True\n",
              "2      True\n",
              "3      True\n",
              "4     False\n",
              "5     False\n",
              "6      True\n",
              "7      True\n",
              "8      True\n",
              "9     False\n",
              "10     True\n",
              "11     True\n",
              "12    False\n",
              "13     True\n",
              "14     True\n",
              "15     True\n",
              "16     True\n",
              "17     True\n",
              "18     True\n",
              "19     True\n",
              "Name: C, dtype: bool"
            ]
          },
          "execution_count": 11,
          "metadata": {},
          "output_type": "execute_result"
        }
      ],
      "source": [
        "torf = df.applymap(lambda x: isinstance(x, (bool)))['C']\n",
        "torf"
      ]
    },
    {
      "cell_type": "markdown",
      "metadata": {
        "id": "Qtv5bvywMtGk"
      },
      "source": [
        "Using this Boolean series to return the non-numeric data"
      ]
    },
    {
      "cell_type": "code",
      "execution_count": null,
      "metadata": {
        "tags": [],
        "id": "cBCUp4eDMtGl",
        "outputId": "8dbc856d-330d-43b4-fa1b-8571613faf30"
      },
      "outputs": [
        {
          "data": {
            "text/html": [
              "<div>\n",
              "<style scoped>\n",
              "    .dataframe tbody tr th:only-of-type {\n",
              "        vertical-align: middle;\n",
              "    }\n",
              "\n",
              "    .dataframe tbody tr th {\n",
              "        vertical-align: top;\n",
              "    }\n",
              "\n",
              "    .dataframe thead th {\n",
              "        text-align: right;\n",
              "    }\n",
              "</style>\n",
              "<table border=\"1\" class=\"dataframe\">\n",
              "  <thead>\n",
              "    <tr style=\"text-align: right;\">\n",
              "      <th></th>\n",
              "      <th>A</th>\n",
              "      <th>B</th>\n",
              "      <th>C</th>\n",
              "      <th>D</th>\n",
              "    </tr>\n",
              "  </thead>\n",
              "  <tbody>\n",
              "    <tr>\n",
              "      <th>4</th>\n",
              "      <td>text</td>\n",
              "      <td>1.0</td>\n",
              "      <td>1</td>\n",
              "      <td>2020-01-01 00:00:00</td>\n",
              "    </tr>\n",
              "    <tr>\n",
              "      <th>5</th>\n",
              "      <td>text</td>\n",
              "      <td>2.2</td>\n",
              "      <td>False</td>\n",
              "      <td>2020-01-01 00:00:00</td>\n",
              "    </tr>\n",
              "    <tr>\n",
              "      <th>9</th>\n",
              "      <td>text</td>\n",
              "      <td>2.2</td>\n",
              "      <td>-12.6</td>\n",
              "      <td>2020-01-01 00:00:00</td>\n",
              "    </tr>\n",
              "    <tr>\n",
              "      <th>12</th>\n",
              "      <td>text</td>\n",
              "      <td>1.0</td>\n",
              "      <td>text</td>\n",
              "      <td>2020-01-01</td>\n",
              "    </tr>\n",
              "  </tbody>\n",
              "</table>\n",
              "</div>"
            ],
            "text/plain": [
              "       A    B      C                    D\n",
              "4   text  1.0      1  2020-01-01 00:00:00\n",
              "5   text  2.2  False  2020-01-01 00:00:00\n",
              "9   text  2.2  -12.6  2020-01-01 00:00:00\n",
              "12  text  1.0   text           2020-01-01"
            ]
          },
          "execution_count": 12,
          "metadata": {},
          "output_type": "execute_result"
        }
      ],
      "source": [
        "df[~torf]"
      ]
    }
  ],
  "metadata": {
    "kernelspec": {
      "display_name": "Python 3",
      "language": "python",
      "name": "python3"
    },
    "language_info": {
      "codemirror_mode": {
        "name": "ipython",
        "version": 3
      },
      "file_extension": ".py",
      "mimetype": "text/x-python",
      "name": "python",
      "nbconvert_exporter": "python",
      "pygments_lexer": "ipython3",
      "version": "3.7.10"
    },
    "colab": {
      "provenance": []
    }
  },
  "nbformat": 4,
  "nbformat_minor": 0
}